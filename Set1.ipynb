{
 "cells": [
  {
   "cell_type": "markdown",
   "metadata": {},
   "source": [
    "Import gluon and mxnet and pandas.\n",
    "\n",
    "gluon is for machine learning.\n",
    "\n",
    "pandas is to access data"
   ]
  },
  {
   "cell_type": "code",
   "execution_count": 1,
   "metadata": {},
   "outputs": [],
   "source": [
    "from d2l import mxnet as d2l\n",
    "from mxnet import gluon, autograd, init, npx, np\n",
    "from mxnet.gluon import nn  # neural network package from gluon\n",
    "import os\n",
    "import pandas as pd\n",
    "npx.set_np()"
   ]
  },
  {
   "cell_type": "code",
   "execution_count": 2,
   "metadata": {},
   "outputs": [
    {
     "name": "stdout",
     "output_type": "stream",
     "text": [
      "<class 'pandas.core.frame.DataFrame'>\n",
      "RangeIndex: 100000 entries, 0 to 99999\n",
      "Columns: 3600 entries, (0|0) to (35|99)\n",
      "dtypes: float64(3600)\n",
      "memory usage: 2.7 GB\n",
      "<class 'pandas.core.frame.DataFrame'>\n",
      "RangeIndex: 100000 entries, 0 to 99999\n",
      "Data columns (total 3 columns):\n",
      " #   Column       Non-Null Count   Dtype  \n",
      "---  ------       --------------   -----  \n",
      " 0   eventNumber  100000 non-null  int64  \n",
      " 1   theta1       100000 non-null  float64\n",
      " 2   z1           100000 non-null  float64\n",
      "dtypes: float64(2), int64(1)\n",
      "memory usage: 2.3 MB\n"
     ]
    }
   ],
   "source": [
    "set1 = \"./Set1/TRAIN/TRAIN.csv\"\n",
    "label1 = \"./Set1/TRAIN/TRAIN_labels.csv\"\n",
    "dataset = pd.read_csv(set1)\n",
    "dataset.info()\n",
    "label = pd.read_csv(label1)\n",
    "label.info()\n",
    "X = np.array(dataset.values)\n",
    "y = label[\"theta1\"]  # you can just index by typing the name using pandas\n",
    "X = X.astype('float32')  # correct value type\n",
    "y = np.array(y.values)  # correct object type\n",
    "y = y.astype('float32')"
   ]
  },
  {
   "cell_type": "markdown",
   "metadata": {},
   "source": [
    "In the data, each line is an event. There should be around 36 points for each event if it hits all the screens, but some times it only hit a few. But most of them are multiples of 6. For example, if the angle has a magnitude over 10, it tends to not hit all 36 planes. Also, 100% hit efficenty mean that the particle will hit the wire in each plane it it can. In the test cases, there are 1000 lines in the data set and 100 different labels, hence each line represents an event with has the label which is the angle. There are 3600 columes in both the testing and test data set, and these corresponds to the wire hit. The bias is 0 since all points starts from z=0. "
   ]
  },
  {
   "cell_type": "code",
   "execution_count": 3,
   "metadata": {},
   "outputs": [
    {
     "data": {
      "text/plain": [
       "array([36, 36, 36, ..., 36, 36, 36], dtype=int64)"
      ]
     },
     "execution_count": 3,
     "metadata": {},
     "output_type": "execute_result"
    }
   ],
   "source": [
    "x = X > 0\n",
    "x.sum(axis=1)"
   ]
  },
  {
   "cell_type": "markdown",
   "metadata": {},
   "source": [
    "Taking a look at the event 0, the second event, there are 3600 different possible wires to be hit. So there aer 3600 different veriables. One particle was shot out randomly and only 36 of these veriables are used. The theta value it suppose to give is 3.315625."
   ]
  },
  {
   "cell_type": "code",
   "execution_count": 4,
   "metadata": {},
   "outputs": [
    {
     "data": {
      "text/plain": [
       "array([139.56125 , 183.91722 , 234.99887 , 195.3385  , 152.4103  ,\n",
       "       108.72551 , 108.705605, 155.46568 , 195.71147 , 240.5206  ,\n",
       "       227.01334 , 143.65202 , 165.15231 , 211.10278 , 249.0032  ,\n",
       "       221.25485 , 170.24008 , 132.26541 , 138.36244 , 170.26302 ,\n",
       "       238.37743 , 198.99002 , 156.37135 , 116.507904, 105.      ,\n",
       "       146.70528 , 188.26672 , 227.94113 , 238.3008  , 142.6536  ,\n",
       "       155.70299 , 201.31061 , 249.03552 , 220.23488 , 177.63501 ,\n",
       "       139.6598  ])"
      ]
     },
     "execution_count": 4,
     "metadata": {},
     "output_type": "execute_result"
    }
   ],
   "source": [
    "event1 = X[1,:]\n",
    "event1index = event1 > 0\n",
    "event1data = event1[event1index]\n",
    "event1data"
   ]
  },
  {
   "cell_type": "code",
   "execution_count": 5,
   "metadata": {},
   "outputs": [
    {
     "data": {
      "text/plain": [
       "array(3.315625)"
      ]
     },
     "execution_count": 5,
     "metadata": {},
     "output_type": "execute_result"
    }
   ],
   "source": [
    "y[0]"
   ]
  },
  {
   "cell_type": "markdown",
   "metadata": {},
   "source": [
    "STEP 1. Read data in batches"
   ]
  },
  {
   "cell_type": "code",
   "execution_count": 6,
   "metadata": {},
   "outputs": [],
   "source": [
    "def load_array(data_arrays, batch_size, is_train=True):  #@save\n",
    "    \"\"\"Construct a Gluon data loader.\"\"\"\n",
    "    dataset = gluon.data.ArrayDataset(*data_arrays)\n",
    "    return gluon.data.DataLoader(dataset, batch_size, shuffle=is_train)\n",
    "\n",
    "batch_size = 1000\n",
    "data_iter = load_array((X, y), batch_size)"
   ]
  },
  {
   "cell_type": "markdown",
   "metadata": {},
   "source": [
    "In the first step, we use the data module to read random data. The object takes one or more tensors as arguments, this we gave the dataset and the labels. We used ArrayDataset to instantiate a DataLoader which takes a batch_size and shuffle Boolean to deterimind what data to use. Here we take a look at the data"
   ]
  },
  {
   "cell_type": "code",
   "execution_count": 7,
   "metadata": {},
   "outputs": [
    {
     "data": {
      "text/plain": [
       "[array([[0., 0., 0., ..., 0., 0., 0.],\n",
       "        [0., 0., 0., ..., 0., 0., 0.],\n",
       "        [0., 0., 0., ..., 0., 0., 0.],\n",
       "        ...,\n",
       "        [0., 0., 0., ..., 0., 0., 0.],\n",
       "        [0., 0., 0., ..., 0., 0., 0.],\n",
       "        [0., 0., 0., ..., 0., 0., 0.]]),\n",
       " array([-9.539323e+00,  3.578473e+00,  2.950167e+00, -5.986791e+00,\n",
       "         4.755381e+00,  6.870640e+00,  3.519502e+00, -3.555228e+00,\n",
       "         5.560397e+00, -9.405040e+00,  8.423130e-01,  7.752433e+00,\n",
       "         2.957897e+00,  8.927818e+00, -7.641076e+00,  5.819589e+00,\n",
       "         5.807699e+00,  6.755280e+00, -4.759973e+00, -7.904869e+00,\n",
       "         4.533058e+00, -6.474874e+00, -5.051648e+00,  1.639388e+00,\n",
       "         3.193530e+00,  7.501271e+00,  7.662933e+00, -6.137539e+00,\n",
       "         4.842704e+00,  2.986750e+00, -8.917894e+00,  3.408415e+00,\n",
       "        -2.183505e+00, -3.365098e+00, -1.830980e-01,  7.633705e+00,\n",
       "         2.659397e+00, -4.346369e+00,  2.246351e+00, -7.165988e+00,\n",
       "         6.670464e+00,  6.850425e+00,  2.039974e+00,  7.518105e+00,\n",
       "         4.107972e+00, -1.924318e+00, -2.856982e+00, -9.311140e-01,\n",
       "         4.725846e+00,  5.575882e+00, -6.844969e+00,  9.874596e+00,\n",
       "         1.010691e+00,  7.408722e+00, -1.052560e-01,  8.683719e+00,\n",
       "        -5.556626e+00,  4.259787e+00, -9.069572e+00,  1.708290e-01,\n",
       "         4.419683e+00,  8.005691e+00, -7.475765e+00, -7.059252e+00,\n",
       "        -8.603758e+00,  8.617130e-01,  1.775271e+00,  9.506600e+00,\n",
       "         1.934690e+00,  4.580357e+00,  2.409637e+00,  5.987207e+00,\n",
       "        -6.482175e+00, -1.999533e+00, -2.513307e+00, -3.352209e+00,\n",
       "         1.649980e+00,  8.202886e+00, -4.434201e+00, -2.578437e+00,\n",
       "        -5.333907e+00,  6.345894e+00, -1.483251e+00, -2.127633e+00,\n",
       "         9.076099e+00,  6.498944e+00, -4.577916e+00,  2.647150e+00,\n",
       "         6.043607e+00, -2.501634e+00,  6.310655e+00,  8.127988e+00,\n",
       "         9.271741e+00, -7.362548e+00,  2.339643e+00, -9.754127e+00,\n",
       "        -1.521998e+00, -6.888850e-01, -7.672473e+00, -1.564400e-01,\n",
       "        -7.875080e+00,  7.909314e+00,  5.307802e+00,  4.426150e+00,\n",
       "         3.067698e+00,  1.176140e-01, -7.804118e+00,  1.136739e+00,\n",
       "        -9.683800e-01, -3.908475e+00,  6.353133e+00,  8.723533e+00,\n",
       "         3.005948e+00,  5.878822e+00, -8.502229e+00,  5.141461e+00,\n",
       "         2.582554e+00,  7.462954e+00, -9.871436e+00, -7.910160e-01,\n",
       "        -8.469434e+00, -3.372020e-01, -6.028060e-01, -7.336733e+00,\n",
       "        -8.779241e+00,  4.213250e-01,  5.253253e+00, -9.461122e+00,\n",
       "         1.604643e+00, -4.671974e+00,  1.069640e-01, -9.144710e-01,\n",
       "         9.863436e+00, -6.594814e+00, -9.119934e+00,  3.619254e+00,\n",
       "        -1.289714e+00,  9.964942e+00, -8.360571e+00, -4.965903e+00,\n",
       "        -1.638260e+00,  4.673154e+00, -8.220119e+00, -3.233106e+00,\n",
       "        -2.028810e-01,  7.535180e-01,  8.581141e+00,  5.181775e+00,\n",
       "         8.050702e+00, -7.105234e+00, -4.308131e+00, -8.546387e+00,\n",
       "        -5.545629e+00,  7.809639e+00, -3.089077e+00,  6.097698e+00,\n",
       "         7.444120e+00,  6.488294e+00, -4.015441e+00,  7.740616e+00,\n",
       "         3.284818e+00,  3.099585e+00,  5.243050e+00, -9.438350e-01,\n",
       "        -8.657484e+00, -1.767387e+00,  1.139149e+00, -7.855623e+00,\n",
       "        -5.223256e+00, -9.903213e+00,  9.256841e+00,  7.881396e+00,\n",
       "        -6.313331e+00,  1.674418e+00,  7.865547e+00,  5.532788e+00,\n",
       "        -7.582683e+00, -4.670422e+00,  5.042527e+00, -9.497133e+00,\n",
       "        -6.604800e+00, -8.314100e-01,  7.555254e+00, -8.537049e+00,\n",
       "        -1.460112e+00,  5.277101e+00,  2.888384e+00,  7.260266e+00,\n",
       "        -4.302637e+00, -9.421890e+00, -9.897755e+00,  6.242467e+00,\n",
       "         2.100672e+00,  3.767569e+00,  8.765154e+00,  3.335531e+00,\n",
       "         6.557590e-01, -9.252623e+00,  5.966086e+00, -9.677935e+00,\n",
       "        -9.836929e+00,  3.659612e+00,  2.114392e+00, -4.070240e+00,\n",
       "        -4.500824e+00,  2.925987e+00,  4.704616e+00,  1.074311e+00,\n",
       "         4.842501e+00, -6.807809e+00, -9.125491e+00,  2.878093e+00,\n",
       "        -5.319830e+00, -4.386950e+00,  2.347339e+00, -3.093601e+00,\n",
       "         1.986381e+00, -5.076455e+00, -6.867743e+00, -3.952359e+00,\n",
       "         3.850806e+00,  3.575155e+00,  4.089106e+00, -5.745098e+00,\n",
       "        -5.167654e+00,  5.657809e+00, -1.080643e+00,  7.587425e+00,\n",
       "        -3.198561e+00, -7.677565e+00, -9.582627e+00, -7.024600e-01,\n",
       "         3.273004e+00, -1.232113e+00,  9.313734e+00,  2.252093e+00,\n",
       "        -3.349610e+00, -2.035000e-01, -5.162024e+00,  2.777971e+00,\n",
       "         3.367990e-01, -9.040365e+00,  7.785073e+00,  3.794858e+00,\n",
       "        -6.422140e+00,  7.188684e+00,  1.577138e+00,  7.089962e+00,\n",
       "        -4.645758e+00, -3.787850e-01,  6.470970e-01, -4.597512e+00,\n",
       "         9.244105e+00,  1.820334e+00, -4.065065e+00,  8.469968e+00,\n",
       "        -7.346020e-01,  5.854290e+00,  6.114566e+00, -8.793572e+00,\n",
       "         3.149027e+00,  3.699702e+00,  6.109297e+00,  3.756060e-01,\n",
       "        -1.191610e+00, -7.289961e+00,  3.750955e+00,  8.949610e-01,\n",
       "         5.722169e+00, -7.182035e+00,  9.945301e+00,  5.094259e+00,\n",
       "         7.447348e+00,  6.573874e+00,  7.812290e+00,  3.258826e+00,\n",
       "        -3.621922e+00, -9.154576e+00, -2.746828e+00,  5.556360e-01,\n",
       "        -2.814678e+00,  4.412300e+00, -7.662714e+00, -6.067623e+00,\n",
       "         2.677980e-01, -4.841872e+00,  3.928290e+00, -7.631914e+00,\n",
       "         5.122032e+00,  3.763980e-01,  5.130532e+00,  3.506201e+00,\n",
       "         6.762630e+00,  5.463528e+00, -8.992419e+00,  4.500133e+00,\n",
       "         3.380851e+00, -7.657275e+00,  7.173258e+00, -7.812485e+00,\n",
       "        -1.883822e+00, -1.524842e+00, -3.089733e+00,  7.960996e+00,\n",
       "        -6.749420e-01, -8.423445e+00,  8.749738e+00,  3.706457e+00,\n",
       "        -6.316458e+00, -9.714433e+00,  4.464344e+00,  9.479312e+00,\n",
       "         8.882326e+00,  4.472183e+00, -8.101653e+00, -8.302782e+00,\n",
       "        -3.563114e+00,  5.941290e+00,  8.918350e+00,  5.888235e+00,\n",
       "        -1.542271e+00,  8.743321e+00, -2.401848e+00,  8.206218e+00,\n",
       "         2.975009e+00, -2.529698e+00,  7.523535e+00, -1.430730e+00,\n",
       "         2.114219e+00, -8.041939e+00, -6.641728e+00,  5.051593e+00,\n",
       "        -2.971442e+00,  4.620373e+00,  7.694600e-01, -3.809782e+00,\n",
       "        -3.794915e+00,  8.168150e+00,  3.062000e-03,  3.023433e+00,\n",
       "         1.509912e+00,  9.965926e+00,  1.192488e+00, -7.302712e+00,\n",
       "        -2.790903e+00, -4.023727e+00,  8.877229e+00, -1.774339e+00,\n",
       "        -4.449525e+00, -2.416450e+00,  4.112973e+00, -6.528238e+00,\n",
       "         5.032596e+00, -3.433485e+00, -3.970402e+00, -2.452889e+00,\n",
       "        -6.876368e+00,  4.466011e+00,  6.047618e+00, -2.497724e+00,\n",
       "        -9.522846e+00,  9.448299e+00, -9.869731e+00,  6.838029e+00,\n",
       "        -3.821315e+00, -7.948162e+00,  7.427186e+00,  8.639425e+00,\n",
       "        -7.235249e+00,  5.656152e+00,  8.543929e+00,  3.772047e+00,\n",
       "         3.909140e-01,  9.885723e+00, -8.213110e-01,  1.669988e+00,\n",
       "        -5.260831e+00, -8.891234e+00, -4.180201e+00, -7.664674e+00,\n",
       "        -4.312007e+00, -8.573036e+00,  2.607749e+00,  4.736524e+00,\n",
       "        -8.088783e+00, -9.482220e+00,  5.094151e+00,  2.926251e+00,\n",
       "         4.231572e+00, -9.373777e+00, -5.350463e+00, -2.032225e+00,\n",
       "         6.061563e+00,  1.966297e+00, -9.933070e+00,  6.445229e+00,\n",
       "        -3.624978e+00, -2.061865e+00,  1.225796e+00, -6.003205e+00,\n",
       "        -4.498755e+00, -1.062400e+00, -3.536070e+00,  3.212861e+00,\n",
       "        -1.575050e+00, -4.698787e+00,  6.204126e+00, -3.102135e+00,\n",
       "        -3.515874e+00,  7.111783e+00, -6.206710e+00,  9.124547e+00,\n",
       "        -3.152095e+00,  2.617804e+00, -3.232442e+00,  5.614630e-01,\n",
       "         1.455753e+00,  8.911253e+00, -6.267139e+00, -4.044100e-01,\n",
       "        -8.261382e+00,  5.826175e+00, -2.403291e+00, -1.985629e+00,\n",
       "         7.885965e+00, -4.781403e+00,  3.486221e+00, -5.654829e+00,\n",
       "         1.239197e+00,  8.353554e+00,  7.861055e+00, -9.449319e+00,\n",
       "        -4.463180e+00, -3.265430e-01,  6.105195e+00, -7.764155e+00,\n",
       "        -6.509229e+00, -6.926521e+00,  3.737235e+00, -8.428811e+00,\n",
       "         5.499865e+00,  4.373526e+00, -6.144877e+00,  1.581419e+00,\n",
       "         9.701236e+00, -2.584071e+00, -9.348913e+00,  1.923790e-01,\n",
       "        -3.632345e+00,  1.234254e+00, -1.006780e-01,  5.349295e+00,\n",
       "         4.225580e-01,  8.631257e+00,  5.461396e+00, -9.234390e+00,\n",
       "        -1.123102e+00, -6.625039e+00, -8.949125e+00,  8.618807e+00,\n",
       "        -6.411941e+00,  1.081000e-02,  5.825876e+00,  5.404760e+00,\n",
       "        -4.661507e+00, -2.598532e+00, -7.205262e+00,  6.917764e+00,\n",
       "         4.322712e+00,  1.454667e+00, -1.674754e+00,  9.616895e+00,\n",
       "         7.403411e+00, -2.333026e+00,  9.047628e+00,  4.327513e+00,\n",
       "        -8.672840e-01,  9.304471e+00,  1.276431e+00,  6.302482e+00,\n",
       "         5.032657e+00, -3.563131e+00, -2.724600e-01, -9.038876e+00,\n",
       "         5.608788e+00, -9.228120e+00,  8.964122e+00, -1.466336e+00,\n",
       "        -7.004234e+00,  4.442770e-01,  5.545115e+00,  7.524410e-01,\n",
       "        -5.293592e+00, -2.295431e+00, -2.087994e+00, -3.541590e-01,\n",
       "         2.567482e+00, -8.322713e+00, -1.373552e+00,  1.668488e+00,\n",
       "         3.104541e+00, -9.444796e+00,  2.285267e+00,  9.526807e+00,\n",
       "         2.424834e+00, -5.515419e+00,  6.653480e-01,  7.583937e+00,\n",
       "        -1.419614e+00, -2.774341e+00, -2.477240e+00,  8.385218e+00,\n",
       "        -8.683121e+00, -8.772173e+00, -7.521030e+00,  4.988640e-01,\n",
       "        -5.280400e-02,  5.621220e+00, -7.123115e+00, -6.176516e+00,\n",
       "         9.061481e+00,  6.922082e+00, -8.122328e+00, -2.965230e+00,\n",
       "        -3.136689e+00,  3.744893e+00,  7.368278e+00,  3.150740e+00,\n",
       "        -5.997672e+00,  1.689307e+00, -4.607633e+00,  8.104183e+00,\n",
       "        -9.715427e+00,  3.782959e+00,  2.367435e+00, -5.078410e-01,\n",
       "         3.971070e+00,  9.117364e+00, -7.873702e+00,  4.370907e+00,\n",
       "         6.473688e+00,  8.725607e+00, -6.249834e+00,  7.628422e+00,\n",
       "        -4.661556e+00, -4.945000e-01, -7.447173e+00, -1.354174e+00,\n",
       "        -2.897992e+00, -4.901206e+00,  1.870150e-01,  7.494471e+00,\n",
       "         6.886436e+00,  3.639067e+00,  7.209608e+00, -6.416606e+00,\n",
       "        -3.693513e+00,  4.622101e+00, -2.547840e-01,  8.688688e+00,\n",
       "         7.637443e+00,  1.269908e+00, -5.544222e+00,  5.122000e+00,\n",
       "         6.203859e+00,  7.609282e+00, -4.278906e+00, -4.433716e+00,\n",
       "         2.535800e-02, -8.397119e+00, -2.243705e+00,  4.865479e+00,\n",
       "         4.655120e+00, -7.069062e+00, -2.607699e+00, -4.694401e+00,\n",
       "        -4.166910e+00,  5.793666e+00,  7.252041e+00, -2.498514e+00,\n",
       "         8.043508e+00, -6.031933e+00,  6.711488e+00,  3.017082e+00,\n",
       "         4.192917e+00,  8.003542e+00, -2.890500e-02,  4.519637e+00,\n",
       "         5.183875e+00, -9.205815e+00, -5.648195e+00,  3.042550e+00,\n",
       "         7.304022e+00, -2.132402e+00, -2.747299e+00,  6.744730e-01,\n",
       "         1.631665e+00, -6.702037e+00, -8.706689e+00,  5.945031e+00,\n",
       "         1.168480e+00,  6.524694e+00,  7.276562e+00, -2.627225e+00,\n",
       "        -3.427338e+00,  9.967594e+00,  1.521974e+00, -9.656024e+00,\n",
       "         8.539666e+00,  1.740890e+00,  1.317832e+00, -9.766446e+00,\n",
       "        -5.166579e+00,  3.964626e+00, -2.307029e+00,  3.215043e+00,\n",
       "         7.134127e+00, -1.265939e+00, -9.133573e+00,  8.927557e+00,\n",
       "         5.795042e+00,  3.428951e+00,  3.866539e+00, -1.458110e+00,\n",
       "         3.446734e+00,  3.138679e+00,  1.326342e+00, -7.687767e+00,\n",
       "        -8.315297e+00, -7.946433e+00,  6.911689e+00, -1.642871e+00,\n",
       "         8.036703e+00,  6.509381e+00,  8.927793e+00, -2.818992e+00,\n",
       "        -8.018680e-01,  1.809746e+00,  4.268306e+00,  1.585342e+00,\n",
       "        -8.601909e+00,  3.088989e+00, -8.671679e+00, -8.459840e+00,\n",
       "         6.466343e+00, -8.075200e+00, -6.561508e+00,  7.074968e+00,\n",
       "        -4.594232e+00, -4.015630e-01,  5.111940e+00, -5.772560e-01,\n",
       "        -5.671257e+00,  8.319390e+00, -5.409048e+00,  9.778057e+00,\n",
       "         1.662727e+00,  2.121238e+00, -5.592277e+00, -4.224900e+00,\n",
       "         9.737851e+00,  8.583945e+00, -8.346007e+00, -3.209442e+00,\n",
       "        -5.925009e+00,  4.605489e+00, -6.151560e+00,  3.549825e+00,\n",
       "        -7.434126e+00,  8.717286e+00, -7.114197e+00,  7.642538e+00,\n",
       "        -3.502722e+00,  3.795470e-01,  2.576805e+00, -1.568784e+00,\n",
       "         2.119428e+00, -8.810280e-01, -1.862404e+00, -2.928438e+00,\n",
       "         6.849979e+00, -8.298906e+00,  4.499274e+00, -1.669350e+00,\n",
       "        -4.794144e+00, -5.466220e+00, -8.079450e+00,  5.754421e+00,\n",
       "         8.327835e+00, -6.141851e+00,  7.500780e-01,  7.105393e+00,\n",
       "         4.477176e+00,  3.792170e+00,  5.514989e+00, -2.649228e+00,\n",
       "         1.458324e+00, -3.538951e+00,  4.250854e+00, -7.255549e+00,\n",
       "        -7.252030e-01, -2.487891e+00,  7.805690e+00,  1.024881e+00,\n",
       "        -9.791816e+00, -7.980150e-01, -9.009490e-01,  9.652085e+00,\n",
       "         4.579516e+00,  8.624753e+00,  9.634560e-01, -5.054393e+00,\n",
       "        -8.141920e-01,  5.047103e+00, -6.273257e+00, -4.665607e+00,\n",
       "        -3.266448e+00,  1.836614e+00, -5.691827e+00,  2.784605e+00,\n",
       "         2.662256e+00, -5.675890e+00, -7.481443e+00, -6.150679e+00,\n",
       "        -3.246514e+00, -9.801789e+00, -2.542569e+00, -1.454331e+00,\n",
       "        -1.316152e+00,  5.541000e-01,  6.455957e+00,  7.827677e+00,\n",
       "         3.009679e+00,  6.462226e+00,  7.759059e+00,  9.431630e+00,\n",
       "         7.964432e+00,  1.283047e+00,  4.924509e+00, -6.243600e-01,\n",
       "        -6.958326e+00, -5.853280e-01, -5.575057e+00,  4.553690e-01,\n",
       "        -7.112545e+00,  5.306436e+00,  2.049161e+00, -3.128851e+00,\n",
       "        -5.166516e+00, -2.120979e+00, -3.167735e+00, -5.411516e+00,\n",
       "         3.172960e+00,  5.500385e+00,  1.893590e+00,  9.410081e+00,\n",
       "        -8.901560e-01, -9.902574e+00, -1.922226e+00, -8.832078e+00,\n",
       "         6.676283e+00, -9.370963e+00, -5.710478e+00, -5.184936e+00,\n",
       "         9.569796e+00, -8.740623e+00,  9.236006e+00, -8.916549e+00,\n",
       "         5.553300e-01,  2.086382e+00, -1.227120e+00, -8.016519e+00,\n",
       "         2.174669e+00, -8.394568e+00,  8.372660e-01,  1.280193e+00,\n",
       "        -1.322777e+00,  2.546430e-01, -6.331054e+00, -7.453534e+00,\n",
       "         8.634573e+00, -3.145764e+00,  1.177540e+00, -2.232408e+00,\n",
       "         8.474399e+00,  4.893670e-01, -1.160997e+00, -4.620132e+00,\n",
       "        -1.350130e+00,  1.222274e+00, -3.032160e-01,  3.552298e+00,\n",
       "        -2.434201e+00,  6.636434e+00, -8.642416e+00,  1.771571e+00,\n",
       "         7.222602e+00, -9.101189e+00, -4.944368e+00,  9.793339e+00,\n",
       "         1.039793e+00, -8.856970e+00, -2.690773e+00,  7.500241e+00,\n",
       "         5.773296e+00, -4.439614e+00, -7.351606e+00,  1.659471e+00,\n",
       "        -4.016260e-01, -8.780443e+00, -2.169161e+00, -2.181085e+00,\n",
       "         4.472914e+00, -5.951478e+00, -3.493413e+00, -2.551366e+00,\n",
       "         1.455362e+00, -4.014478e+00, -6.066807e+00,  3.469452e+00,\n",
       "         4.661820e-01, -5.124524e+00,  5.472584e+00, -8.227433e+00,\n",
       "         4.610008e+00,  9.946953e+00, -9.101330e+00, -4.908504e+00,\n",
       "         4.271354e+00, -4.319424e+00,  5.611081e+00,  6.347846e+00,\n",
       "         3.793503e+00, -2.785905e+00, -2.791247e+00,  4.683884e+00,\n",
       "         4.829027e+00,  3.985516e+00, -3.379007e+00,  6.420613e+00,\n",
       "        -6.324400e+00,  4.407625e+00,  1.184870e+00,  1.492317e+00,\n",
       "        -5.932370e+00,  5.912273e+00, -7.109690e-01,  8.967180e-01,\n",
       "         6.523491e+00,  2.573116e+00, -3.397993e+00,  1.451213e+00,\n",
       "        -8.262411e+00, -9.549576e+00,  3.294499e+00,  4.548539e+00,\n",
       "         3.406903e+00,  6.638300e+00,  1.889646e+00, -8.369100e+00,\n",
       "        -3.312790e-01,  1.453610e+00, -3.064235e+00, -3.602346e+00,\n",
       "        -9.776433e+00, -5.463099e+00, -5.255936e+00, -4.040970e+00,\n",
       "         5.424767e+00, -9.080276e+00, -8.948030e-01,  4.175030e+00,\n",
       "         3.809220e+00,  4.258692e+00,  4.989499e+00,  5.092162e+00,\n",
       "         7.580364e+00, -7.343467e+00,  8.950234e+00,  2.913847e+00,\n",
       "        -4.124550e-01,  2.008380e-01,  5.337415e+00, -8.445457e+00,\n",
       "         3.606013e+00,  1.901189e+00,  2.009337e+00,  2.142939e+00,\n",
       "         8.931188e+00,  2.977687e+00,  5.731194e+00,  3.030139e+00,\n",
       "         2.933276e+00, -1.096986e+00, -9.644605e+00,  5.428080e-01,\n",
       "         8.623007e+00, -4.678379e+00,  2.206998e+00,  6.822347e+00,\n",
       "        -2.231998e+00, -8.850935e+00, -5.466585e+00,  2.498656e+00,\n",
       "         8.831108e+00,  8.479366e+00,  6.031465e+00,  8.729188e+00,\n",
       "         3.755820e+00, -8.095224e+00, -1.021528e+00,  5.622961e+00,\n",
       "         3.206984e+00, -2.613436e+00,  9.963955e+00,  2.411543e+00,\n",
       "        -8.388047e+00,  3.937745e+00,  8.443700e-02,  9.103685e+00,\n",
       "         4.536963e+00, -3.198195e+00,  4.368886e+00, -9.206995e+00,\n",
       "         6.310667e+00, -4.446177e+00, -7.179098e+00,  8.190872e+00,\n",
       "         4.602622e+00, -8.453400e+00, -9.237332e+00,  2.647448e+00,\n",
       "        -3.491058e+00,  8.786933e+00, -7.595232e+00, -4.367589e+00,\n",
       "        -7.494068e+00,  6.447336e+00,  8.131833e+00,  8.804542e+00,\n",
       "         1.868542e+00,  1.270209e+00,  4.266384e+00, -3.479126e+00,\n",
       "         9.848495e+00,  3.142731e+00, -6.397872e+00,  3.760680e+00,\n",
       "        -9.954400e-01,  8.640340e-01,  9.327430e+00, -8.093648e+00,\n",
       "         8.021684e+00,  1.273659e+00,  2.590687e+00, -5.490330e-01,\n",
       "         3.549469e+00, -3.588763e+00, -9.067471e+00, -1.466862e+00,\n",
       "        -6.347600e+00,  7.822958e+00, -3.637025e+00, -4.278256e+00,\n",
       "        -1.495474e+00,  8.524014e+00, -7.193866e+00, -9.916153e+00,\n",
       "         5.165580e+00, -6.848030e+00, -6.506644e+00, -9.353693e+00,\n",
       "        -4.072111e+00,  7.239540e+00, -7.597898e+00,  5.592981e+00,\n",
       "        -3.664101e+00,  8.782787e+00, -8.069278e+00,  5.386162e+00,\n",
       "         5.422991e+00, -5.309399e+00, -7.185560e+00,  4.269369e+00,\n",
       "        -2.423609e+00,  4.637561e+00,  6.947206e+00, -9.070538e+00,\n",
       "         4.802980e+00,  7.309957e+00, -2.685022e+00, -3.486071e+00,\n",
       "        -3.347975e+00, -8.111414e+00, -2.146932e+00, -6.549706e+00,\n",
       "        -8.001905e+00,  7.113640e-01,  4.584979e+00, -5.434592e+00])]"
      ]
     },
     "execution_count": 7,
     "metadata": {},
     "output_type": "execute_result"
    }
   ],
   "source": [
    "next(iter(data_iter))"
   ]
  },
  {
   "cell_type": "markdown",
   "metadata": {},
   "source": [
    "STEP 3. Defining the Model\n",
    "\n",
    "We will use nn (neural networks) from gluon to define a model. the model veriable is net which is an instance of Sequential class. Sequential class if a container for several layers. We only need one layer, but if we had more layers, Sequential would just pass it the first layer and then pass the output as the second layer's input and so forth. "
   ]
  },
  {
   "cell_type": "code",
   "execution_count": 8,
   "metadata": {},
   "outputs": [],
   "source": [
    "net = nn.Sequential()\n",
    "net.add(nn.Dense(1))  # Maybe I can change this to float32"
   ]
  },
  {
   "cell_type": "markdown",
   "metadata": {},
   "source": [
    "We will want a fully-connected layer because each of the 3600 inputs are connected to the output. This is defined in the Dense class. We only want a single scalar output, so we set that number to 1."
   ]
  },
  {
   "cell_type": "markdown",
   "metadata": {},
   "source": [
    "STEP 3. Initializing Model Parameters\n",
    "\n",
    "Using the initializer module from MXNet, we specify each weight from a randomly sampled normal distribution with mean 0 and standard deviation 0.01. The bias parameter will be initialized to 0 by defeult. Note that we are initalizing parameters even thought Gluon does not know how manny dimensions the input will have. This is because initializaion is actually deferred, hence we cannot access or manipulate them."
   ]
  },
  {
   "cell_type": "code",
   "execution_count": 9,
   "metadata": {},
   "outputs": [],
   "source": [
    "net.initialize(init.Normal(sigma=0.0001))"
   ]
  },
  {
   "cell_type": "markdown",
   "metadata": {},
   "source": [
    "STEP 4. Defining the Loss Function\n",
    "\n",
    "For linear regression, we implement the squared loss function L2LOSS. The loss function gives a value which tells us how much the estimated value is close to the real value. This will then be used for optimzation later."
   ]
  },
  {
   "cell_type": "code",
   "execution_count": 10,
   "metadata": {},
   "outputs": [],
   "source": [
    "from mxnet.gluon import loss as gloss\n",
    "loss = gloss.L2Loss()"
   ]
  },
  {
   "cell_type": "markdown",
   "metadata": {},
   "source": [
    "STEP 5. Defining the Optimzation Algorithm\n",
    "\n",
    "We will use Minibatch Stochastic Gradient Descent (Minibatch SGD) as the tool to optimize this neural network. This is throught Gluon Trainer class. Our parameters are from net and we obtain them from net.collect_params(). The optimization algorithm is (sgd). The hyper-parameters, parameters we change, not of the dataset, is just the learning rate. The learning rate is just the step size of the weights. It is very low because if it is over 0.0001, then the loss function diverges and and code breaks down."
   ]
  },
  {
   "cell_type": "code",
   "execution_count": 84,
   "metadata": {},
   "outputs": [],
   "source": [
    "trainer = gluon.Trainer(net.collect_params(), 'sgd', {'learning_rate': 0.000008})"
   ]
  },
  {
   "cell_type": "markdown",
   "metadata": {},
   "source": [
    "STEP 6. Training\n",
    "\n",
    "Now time for training. "
   ]
  },
  {
   "cell_type": "code",
   "execution_count": 85,
   "metadata": {},
   "outputs": [
    {
     "name": "stdout",
     "output_type": "stream",
     "text": [
      "loss: 0.000344\n"
     ]
    }
   ],
   "source": [
    "X1, y1 = next(iter(data_iter))\n",
    "net(X1)  # Gets the weights\n",
    "l = loss(net(X1), y1)\n",
    "print('loss: %f' % (l.mean().asnumpy()))"
   ]
  },
  {
   "cell_type": "code",
   "execution_count": 86,
   "metadata": {},
   "outputs": [
    {
     "name": "stdout",
     "output_type": "stream",
     "text": [
      "loss: 0.000387\n"
     ]
    }
   ],
   "source": [
    "l = loss(net(X), y)\n",
    "print('loss: %f' % (l.mean().asnumpy()))"
   ]
  },
  {
   "cell_type": "code",
   "execution_count": 87,
   "metadata": {},
   "outputs": [
    {
     "name": "stdout",
     "output_type": "stream",
     "text": [
      "epoch 1, loss: 0.000384\n",
      "epoch 2, loss: 0.000384\n",
      "epoch 3, loss: 0.000383\n",
      "epoch 4, loss: 0.000384\n",
      "epoch 5, loss: 0.000384\n",
      "epoch 6, loss: 0.000383\n",
      "epoch 7, loss: 0.000382\n",
      "epoch 8, loss: 0.000382\n",
      "epoch 9, loss: 0.000382\n",
      "epoch 10, loss: 0.000381\n",
      "epoch 11, loss: 0.000381\n",
      "epoch 12, loss: 0.000380\n",
      "epoch 13, loss: 0.000381\n",
      "epoch 14, loss: 0.000380\n",
      "epoch 15, loss: 0.000380\n",
      "epoch 16, loss: 0.000380\n",
      "epoch 17, loss: 0.000379\n",
      "epoch 18, loss: 0.000379\n",
      "epoch 19, loss: 0.000379\n",
      "epoch 20, loss: 0.000379\n"
     ]
    }
   ],
   "source": [
    "num_epochs = 20\n",
    "for epoch in range(1, num_epochs + 1):\n",
    "    for X1, y1 in data_iter:\n",
    "        with autograd.record():  # stores a function so that we can compute gradients later.\n",
    "            l = loss(net(X1), y1)\n",
    "        l.backward()\n",
    "        trainer.step(batch_size)\n",
    "    l = loss(net(X), y)\n",
    "    print('epoch %d, loss: %f' % (epoch, l.mean().asnumpy()))"
   ]
  },
  {
   "cell_type": "markdown",
   "metadata": {},
   "source": [
    "STEP 7. Get prediction"
   ]
  },
  {
   "cell_type": "code",
   "execution_count": 99,
   "metadata": {},
   "outputs": [
    {
     "data": {
      "text/plain": [
       "(1, 3600)"
      ]
     },
     "execution_count": 99,
     "metadata": {},
     "output_type": "execute_result"
    }
   ],
   "source": [
    "w = net[0].weight.data()\n",
    "w.shape"
   ]
  },
  {
   "cell_type": "code",
   "execution_count": 16,
   "metadata": {},
   "outputs": [
    {
     "data": {
      "text/plain": [
       "(100000, 3600)"
      ]
     },
     "execution_count": 16,
     "metadata": {},
     "output_type": "execute_result"
    }
   ],
   "source": [
    "X.shape"
   ]
  },
  {
   "cell_type": "code",
   "execution_count": 89,
   "metadata": {},
   "outputs": [],
   "source": [
    "sol=np.dot(X, w.T)"
   ]
  },
  {
   "cell_type": "code",
   "execution_count": 90,
   "metadata": {},
   "outputs": [
    {
     "data": {
      "text/plain": [
       "array([7.8954797])"
      ]
     },
     "execution_count": 90,
     "metadata": {},
     "output_type": "execute_result"
    }
   ],
   "source": [
    "sol[1]"
   ]
  },
  {
   "cell_type": "code",
   "execution_count": 93,
   "metadata": {},
   "outputs": [
    {
     "data": {
      "text/plain": [
       "array([-7.714302])"
      ]
     },
     "execution_count": 93,
     "metadata": {},
     "output_type": "execute_result"
    }
   ],
   "source": [
    "sol[20]"
   ]
  },
  {
   "cell_type": "code",
   "execution_count": 98,
   "metadata": {},
   "outputs": [
    {
     "data": {
      "text/plain": [
       "(100000, 1)"
      ]
     },
     "execution_count": 98,
     "metadata": {},
     "output_type": "execute_result"
    }
   ],
   "source": [
    "sol.shape"
   ]
  },
  {
   "cell_type": "code",
   "execution_count": 118,
   "metadata": {},
   "outputs": [],
   "source": [
    "file_name = \"net.params\"\n",
    "net.save_parameters('./Set1/TRAIN/model')"
   ]
  },
  {
   "cell_type": "code",
   "execution_count": null,
   "metadata": {},
   "outputs": [],
   "source": []
  },
  {
   "cell_type": "code",
   "execution_count": null,
   "metadata": {},
   "outputs": [],
   "source": []
  }
 ],
 "metadata": {
  "kernelspec": {
   "display_name": "Python 3",
   "language": "python",
   "name": "python3"
  },
  "language_info": {
   "codemirror_mode": {
    "name": "ipython",
    "version": 3
   },
   "file_extension": ".py",
   "mimetype": "text/x-python",
   "name": "python",
   "nbconvert_exporter": "python",
   "pygments_lexer": "ipython3",
   "version": "3.7.7"
  }
 },
 "nbformat": 4,
 "nbformat_minor": 4
}
